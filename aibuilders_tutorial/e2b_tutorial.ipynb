{
  "cells": [
    {
      "cell_type": "markdown",
      "metadata": {
        "id": "RIGALKHTX9au"
      },
      "source": [
        "# E2B Sandbox Code Execution Tutorial\n",
        "\n",
        "Welcome to this tutorial on **E2B (Execute to Build)**! 🦎\n",
        "\n",
        "E2B provides secure, isolated sandbox environments for running code, especially useful for AI-generated code. This notebook will walk you through the essential concepts and show you how to use E2B for tasks like data analysis. We'll cover:\n",
        "\n",
        "* Setting up your environment and API keys.\n",
        "* Basic code execution in an E2B sandbox.\n",
        "* Working with files (uploading and downloading).\n",
        "* Installing custom packages.\n",
        "* Performing data analysis with E2B sandbox."
      ]
    },
    {
      "cell_type": "markdown",
      "metadata": {
        "id": "_GTtD2bqX9aw"
      },
      "source": [
        "## 1. Setup and API Keys\n",
        "\n",
        "First, we need to install the necessary libraries and load our API keys from a `.env` file. This is a good practice for keeping your keys secure and out of your codebase."
      ]
    },
    {
      "cell_type": "code",
      "execution_count": null,
      "metadata": {
        "id": "sYz4ocd5X9ax"
      },
      "outputs": [],
      "source": [
        "# Uncomment to install packages\n",
        "# !pip install e2b e2b-code-interpreter python-dotenv langchain langchain-community openai -q"
      ]
    },
    {
      "cell_type": "code",
      "execution_count": null,
      "metadata": {
        "id": "O0kxoLwAX9ay"
      },
      "outputs": [],
      "source": [
        "import os\n",
        "from dotenv import load_dotenv\n",
        "\n",
        "# Load environment variables from .env file\n",
        "load_dotenv()\n",
        "\n",
        "# Get API keys\n",
        "e2b_api_key = os.getenv(\"E2B_API_KEY\")\n",
        "openai_api_key = os.getenv(\"OPENAI_API_KEY\")\n",
        "\n",
        "# Set environment variables for LangChain\n",
        "os.environ[\"E2B_API_KEY\"] = e2b_api_key\n",
        "os.environ[\"OPENAI_API_KEY\"] = openai_api_key"
      ]
    },
    {
      "cell_type": "markdown",
      "metadata": {
        "id": "nmR-6yr-X9ay"
      },
      "source": [
        "## 2. Basic Code Execution\n",
        "\n",
        "Let's start by creating a sandbox and running a simple Python command."
      ]
    },
    {
      "cell_type": "code",
      "execution_count": null,
      "metadata": {
        "id": "Zdld1VKxX9az",
        "outputId": "693f9e4e-1dc8-4931-8067-35c34a02fc26"
      },
      "outputs": [
        {
          "name": "stdout",
          "output_type": "stream",
          "text": [
            "Logs(stdout: ['Hello, from the E2B sandbox!\\n'], stderr: [])\n"
          ]
        }
      ],
      "source": [
        "from e2b_code_interpreter import Sandbox\n",
        "\n",
        "with Sandbox() as sandbox:\n",
        "    execution = sandbox.run_code('print(\"Hello, from the E2B sandbox!\")')\n",
        "    # Print the captured logs from the execution\n",
        "    print(execution.logs)\n"
      ]
    },
    {
      "cell_type": "markdown",
      "metadata": {
        "id": "jcKKOoXgX9a0"
      },
      "source": [
        "## 3. Working with Files\n",
        "\n",
        "E2B makes it easy to work with files inside the sandbox. You can upload files from your local machine, and download files generated within the sandbox."
      ]
    },
    {
      "cell_type": "code",
      "execution_count": null,
      "metadata": {
        "id": "5-uN8IXFX9a0",
        "outputId": "7a9c803e-b9ee-444f-c7fc-03563d59fd6f"
      },
      "outputs": [
        {
          "name": "stdout",
          "output_type": "stream",
          "text": [
            "Content of my_file.txt: This is a test file.\n",
            "Files in sandbox: [EntryInfo(name='.e2b', type=<FileType.FILE: 'file'>, path='/.e2b'), EntryInfo(name='bin', type=<FileType.DIR: 'dir'>, path='/bin'), EntryInfo(name='boot', type=<FileType.DIR: 'dir'>, path='/boot'), EntryInfo(name='code', type=<FileType.DIR: 'dir'>, path='/code'), EntryInfo(name='dev', type=<FileType.DIR: 'dir'>, path='/dev'), EntryInfo(name='etc', type=<FileType.DIR: 'dir'>, path='/etc'), EntryInfo(name='home', type=<FileType.DIR: 'dir'>, path='/home'), EntryInfo(name='ijava-1.3.0.zip', type=<FileType.FILE: 'file'>, path='/ijava-1.3.0.zip'), EntryInfo(name='install.py', type=<FileType.FILE: 'file'>, path='/install.py'), EntryInfo(name='java', type=<FileType.DIR: 'dir'>, path='/java'), EntryInfo(name='lib', type=<FileType.DIR: 'dir'>, path='/lib'), EntryInfo(name='lib64', type=<FileType.DIR: 'dir'>, path='/lib64'), EntryInfo(name='lost+found', type=<FileType.DIR: 'dir'>, path='/lost+found'), EntryInfo(name='media', type=<FileType.DIR: 'dir'>, path='/media'), EntryInfo(name='mnt', type=<FileType.DIR: 'dir'>, path='/mnt'), EntryInfo(name='opt', type=<FileType.DIR: 'dir'>, path='/opt'), EntryInfo(name='proc', type=<FileType.DIR: 'dir'>, path='/proc'), EntryInfo(name='r-4.4.2_1_amd64.deb', type=<FileType.FILE: 'file'>, path='/r-4.4.2_1_amd64.deb'), EntryInfo(name='requirements.txt', type=<FileType.FILE: 'file'>, path='/requirements.txt'), EntryInfo(name='root', type=<FileType.DIR: 'dir'>, path='/root'), EntryInfo(name='run', type=<FileType.DIR: 'dir'>, path='/run'), EntryInfo(name='sbin', type=<FileType.DIR: 'dir'>, path='/sbin'), EntryInfo(name='srv', type=<FileType.DIR: 'dir'>, path='/srv'), EntryInfo(name='swap', type=<FileType.DIR: 'dir'>, path='/swap'), EntryInfo(name='sys', type=<FileType.DIR: 'dir'>, path='/sys'), EntryInfo(name='tmp', type=<FileType.DIR: 'dir'>, path='/tmp'), EntryInfo(name='usr', type=<FileType.DIR: 'dir'>, path='/usr'), EntryInfo(name='var', type=<FileType.DIR: 'dir'>, path='/var')]\n"
          ]
        }
      ],
      "source": [
        "with Sandbox() as sandbox:\n",
        "    # Create a file in the sandbox using the correct API method\n",
        "    sandbox.files.write('my_file.txt', 'This is a test file.')\n",
        "\n",
        "    # Read the file from the sandbox\n",
        "    content = sandbox.files.read('my_file.txt')\n",
        "    print(f\"Content of my_file.txt: {content}\")\n",
        "\n",
        "    # List files in the sandbox to verify the file exists\n",
        "    files = sandbox.files.list('/')\n",
        "    print(f\"Files in sandbox: {files}\")\n",
        "\n",
        "    # Note: For downloading files, you would typically use the process to copy content\n",
        "    # or use the sandbox's built-in methods depending on the E2B version"
      ]
    },
    {
      "cell_type": "markdown",
      "metadata": {
        "id": "0NC-B8I4X9a1"
      },
      "source": [
        "## 4. Installing Custom Packages\n",
        "\n",
        "E2B sandboxes come with many common data science libraries pre-installed. However, you can easily install any other package you need using `pip`."
      ]
    },
    {
      "cell_type": "code",
      "execution_count": null,
      "metadata": {
        "id": "hEHKevfiX9a2",
        "outputId": "fe734cbe-ae27-4ef4-e155-d9edbd36e544"
      },
      "outputs": [
        {
          "name": "stdout",
          "output_type": "stream",
          "text": [
            "Logs(stdout: ['Requirement already satisfied: numpy in /usr/local/lib/python3.12/site-packages (1.26.4)\\n'], stderr: [\"\\x1b[33mWARNING: Running pip as the 'root' user can result in broken permissions and conflicting behaviour with the system package manager, possibly rendering your system unusable. It is recommended to use a virtual environment instead: https://pip.pypa.io/warnings/venv. Use the --root-user-action option if you know what you are doing and want to suppress this warning.\\x1b[0m\\x1b[33m\\n\\x1b[0m\"])\n",
            "Numpy output: Logs(stdout: ['[0.12602202 0.36022417 0.4920885  0.56020215 0.23768499]\\n'], stderr: [])\n"
          ]
        }
      ],
      "source": [
        "with Sandbox() as sandbox:\n",
        "    # Install a package using run_code instead of process\n",
        "    execution = sandbox.run_code('import subprocess; subprocess.run([\"pip\", \"install\", \"numpy\"], check=True)')\n",
        "    print(execution.logs)\n",
        "\n",
        "    # Use the installed package\n",
        "    execution = sandbox.run_code('import numpy as np; print(np.random.rand(5))')\n",
        "    print(f\"Numpy output: {execution.logs}\")"
      ]
    },
    {
      "cell_type": "markdown",
      "metadata": {
        "id": "nf_-giUtX9a3"
      },
      "source": [
        "## 5. Data Analysis with E2B Sandbox\n",
        "\n",
        "E2B provides powerful capabilities for data analysis directly within the sandbox environment. We'll demonstrate how to perform data analysis on a CSV file using pandas in the secure E2B sandbox."
      ]
    },
    {
      "cell_type": "code",
      "execution_count": null,
      "metadata": {
        "id": "X2C7aPlxX9a4",
        "outputId": "c15760e9-ef15-4022-c218-493bf902a102"
      },
      "outputs": [
        {
          "name": "stdout",
          "output_type": "stream",
          "text": [
            "Analysis results:\n",
            "Logs(stdout: ['Data summary:\\n       value\\ncount    3.0\\nmean     2.0\\nstd      1.0\\nmin      1.0\\n25%      1.5\\n50%      2.0\\n75%      2.5\\nmax      3.0\\n\\nAverage value: 2.0\\n\\nData shape: (3, 2)\\n'], stderr: [])\n"
          ]
        }
      ],
      "source": [
        "from e2b_code_interpreter import Sandbox\n",
        "import pandas as pd\n",
        "\n",
        "# Create a dummy CSV file\n",
        "with open(\"dummy_data.csv\", \"w\") as f:\n",
        "    f.write(\"name,value\\n\")\n",
        "    f.write(\"A,1\\n\")\n",
        "    f.write(\"B,2\\n\")\n",
        "    f.write(\"C,3\\n\")\n",
        "\n",
        "# Use E2B sandbox for data analysis\n",
        "with Sandbox() as sandbox:\n",
        "    # Upload the file to the sandbox\n",
        "    with open(\"dummy_data.csv\", \"r\") as f:\n",
        "        content = f.read()\n",
        "        sandbox.files.write('dummy_data.csv', content)\n",
        "\n",
        "    # Analyze the data using pandas in the sandbox\n",
        "    execution = sandbox.run_code('''\n",
        "import pandas as pd\n",
        "import io\n",
        "\n",
        "# Read the CSV data\n",
        "data = pd.read_csv('dummy_data.csv')\n",
        "print(\"Data summary:\")\n",
        "print(data.describe())\n",
        "print(f\"\\\\nAverage value: {data['value'].mean()}\")\n",
        "print(f\"\\\\nData shape: {data.shape}\")\n",
        "''')\n",
        "\n",
        "    print(\"Analysis results:\")\n",
        "    print(execution.logs)"
      ]
    },
    {
      "cell_type": "markdown",
      "metadata": {
        "id": "DiOzKJiIX9a5"
      },
      "source": [
        "## Conclusion\n",
        "\n",
        "This tutorial covered the basics of using the E2B Sandbox for secure code execution. You've learned how to:\n",
        "\n",
        "* Set up your environment and API keys.\n",
        "* Execute basic Python code.\n",
        "* Manage files within the sandbox.\n",
        "* Install custom packages.\n",
        "* Perform data analysis using E2B sandbox.\n",
        "\n",
        "E2B is a powerful tool for building AI applications that can safely interact with code. For more advanced use cases, be sure to check out the official."
      ]
    }
  ],
  "metadata": {
    "kernelspec": {
      "display_name": "3.10.14",
      "language": "python",
      "name": "python3"
    },
    "language_info": {
      "codemirror_mode": {
        "name": "ipython",
        "version": 3
      },
      "file_extension": ".py",
      "mimetype": "text/x-python",
      "name": "python",
      "nbconvert_exporter": "python",
      "pygments_lexer": "ipython3",
      "version": "3.10.14"
    },
    "colab": {
      "provenance": []
    }
  },
  "nbformat": 4,
  "nbformat_minor": 0
}