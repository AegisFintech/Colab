{
  "cells": [
    {
      "cell_type": "markdown",
      "metadata": {
        "id": "2oIVf7b9aD92"
      },
      "source": [
        "# LlamaIndex Tutorial: Building RAG Applications\n",
        "\n",
        "## Introduction\n",
        "\n",
        "**LlamaIndex** is a powerful data framework that connects Large Language Models (LLMs) with your **private data** through Retrieval-Augmented Generation (RAG). This tutorial covers the essential concepts for building intelligent applications that can query your documents.\n",
        "\n",
        "### Key Components\n",
        "- **Documents**: A fundamental container for representing data and its associated metadata. It acts as a wrapper around various data sources, including text, PDFs, API outputs, and database records\n",
        "- **Data Connectors**: Tools to ingest data from various sources.\n",
        "- **LlamaHub**: A registry of open-source data connectors that you can easily plug into any LlamaIndex application (+ Agent Tools, and Llama Packs)\n",
        "- **Nodes**: A \"chunk\" of a source Document, whether that is a text chunk, an image, or other. Similar to Documents, they contain metadata and relationship information with other nodes\n",
        "- **Index**: A data structure that allows us to quickly retrieve relevant context for a user query\n",
        "- **Query Engine**: Interface for asking questions\n",
        "- **Response Synthesizer**: A component that takes a user query and a set of retrieved nodes (or text chunks) and generates a final response."
      ]
    },
    {
      "cell_type": "markdown",
      "metadata": {
        "id": "lY5gh1ksaD93"
      },
      "source": [
        "## 1. Setup and Installation"
      ]
    },
    {
      "cell_type": "code",
      "execution_count": null,
      "metadata": {
        "id": "f14IhsNNaD93"
      },
      "outputs": [],
      "source": [
        "# Uncomment to install required packages\n",
        "# !pip install llama-index openai python-dotenv -q"
      ]
    },
    {
      "cell_type": "code",
      "execution_count": null,
      "metadata": {
        "id": "2VX7oxZnaD94"
      },
      "outputs": [],
      "source": [
        "import os\n",
        "from dotenv import load_dotenv\n",
        "from llama_index.core import (\n",
        "    SimpleDirectoryReader,\n",
        "    VectorStoreIndex,\n",
        "    Document,\n",
        "    Settings\n",
        ")\n",
        "from llama_index.core.node_parser import SentenceSplitter\n",
        "from llama_index.llms.openai import OpenAI\n",
        "from llama_index.embeddings.openai import OpenAIEmbedding"
      ]
    },
    {
      "cell_type": "code",
      "execution_count": null,
      "metadata": {
        "id": "SugRTHd7aD94",
        "outputId": "3af23de9-9e99-42b0-f7b1-0d89c419afa8"
      },
      "outputs": [
        {
          "name": "stdout",
          "output_type": "stream",
          "text": [
            "✅ OpenAI API key loaded from .env file\n"
          ]
        }
      ],
      "source": [
        "# Load environment variables from .env file\n",
        "load_dotenv()\n",
        "\n",
        "# Load API keys from .env file\n",
        "openai_api_key = os.getenv(\"OPENAI_API_KEY\")\n",
        "\n",
        "# Verify API key is loaded\n",
        "if openai_api_key:\n",
        "    print(\"✅ OpenAI API key loaded from .env file\")\n",
        "    os.environ[\"OPENAI_API_KEY\"] = openai_api_key\n",
        "else:\n",
        "    print(\"❌ OpenAI API key not found in .env file\")\n",
        "    print(\"Please add OPENAI_API_KEY=your-actual-key to your .env file\")"
      ]
    },
    {
      "cell_type": "code",
      "execution_count": null,
      "metadata": {
        "id": "cpRhLRZtaD95"
      },
      "outputs": [],
      "source": [
        "# Configure global settings\n",
        "Settings.llm = OpenAI(model=\"gpt-3.5-turbo\", temperature=0.1)\n",
        "Settings.embed_model = OpenAIEmbedding(model=\"text-embedding-ada-002\")"
      ]
    },
    {
      "cell_type": "markdown",
      "metadata": {
        "id": "2YzISiPwaD95"
      },
      "source": [
        "## 2. Loading Documents"
      ]
    },
    {
      "cell_type": "code",
      "execution_count": null,
      "metadata": {
        "id": "dQxK-R3TaD95",
        "outputId": "ee9b6ca4-4c54-4779-91fc-0923416b4081"
      },
      "outputs": [
        {
          "name": "stdout",
          "output_type": "stream",
          "text": [
            "Loaded 1 documents\n",
            "First document preview: \n",
            "LlamaIndex is a data framework for building LLM applications. \n",
            "It provides tools to ingest, structu...\n"
          ]
        }
      ],
      "source": [
        "# Method 1: Create sample documents\n",
        "sample_text = \"\"\"\n",
        "LlamaIndex is a data framework for building LLM applications.\n",
        "It provides tools to ingest, structure, and access private data for LLMs.\n",
        "The framework supports various data sources including PDFs, databases, and APIs.\n",
        "RAG is the core technique that allows LLMs to answer questions about your data.\n",
        "\"\"\"\n",
        "\n",
        "documents = [Document(text=sample_text)]\n",
        "\n",
        "# Method 2: Load from directory (uncomment to use)\n",
        "# !mkdir -p data\n",
        "# documents = SimpleDirectoryReader(\"data\").load_data()\n",
        "\n",
        "print(f\"Loaded {len(documents)} documents\")\n",
        "print(f\"First document preview: {documents[0].text[:100]}...\")"
      ]
    },
    {
      "cell_type": "markdown",
      "metadata": {
        "id": "AxXaBBZPaD95"
      },
      "source": [
        "## 3. Document Chunking (Node Parsing)\n",
        "\n",
        "**Chunking** splits documents into smaller pieces for better retrieval. Key considerations:\n",
        "- **Chunk Size**: Smaller chunks = more precise, larger chunks = more context\n",
        "- **Overlap**: Prevents information loss at boundaries\n",
        "- **Default**: 1024 tokens with 20 token overlap"
      ]
    },
    {
      "cell_type": "code",
      "execution_count": null,
      "metadata": {
        "id": "9Myoby29aD95",
        "outputId": "50401fb7-cfb1-43b8-d9a9-3e870a2aee07"
      },
      "outputs": [
        {
          "name": "stdout",
          "output_type": "stream",
          "text": [
            "Created 1 nodes\n",
            "First node: LlamaIndex is a data framework for building LLM applications. \n",
            "It provides tools to ingest, structure, and access private data for LLMs.\n",
            "The framework supports various data sources including PDFs, databases, and APIs.\n",
            "RAG is the core technique that allows LLMs to answer questions about your data.\n",
            "Node metadata: {}\n"
          ]
        }
      ],
      "source": [
        "# Configure text splitter\n",
        "text_splitter = SentenceSplitter(\n",
        "    chunk_size=512,  # Smaller chunks for demo\n",
        "    chunk_overlap=50\n",
        ")\n",
        "\n",
        "# Parse documents into nodes\n",
        "nodes = text_splitter.get_nodes_from_documents(documents)\n",
        "\n",
        "print(f\"Created {len(nodes)} nodes\")\n",
        "print(f\"First node: {nodes[0].text}\")\n",
        "print(f\"Node metadata: {nodes[0].metadata}\")"
      ]
    },
    {
      "cell_type": "markdown",
      "metadata": {
        "id": "GWSyOx2PaD96"
      },
      "source": [
        "## 4. Creating Vector Index\n",
        "\n",
        "**VectorStoreIndex** converts text into embeddings (numerical representations) for semantic search."
      ]
    },
    {
      "cell_type": "code",
      "execution_count": null,
      "metadata": {
        "id": "Tk7Pxc3jaD96",
        "outputId": "f0e00e13-181c-48d0-a5d9-ba2c990bf6d1",
        "colab": {
          "referenced_widgets": [
            "e5853dfc36d1461cb7e80c0b0f7edf5e",
            "dce42d08ea1e44e6b3811e7a83475465"
          ]
        }
      },
      "outputs": [
        {
          "data": {
            "application/vnd.jupyter.widget-view+json": {
              "model_id": "e5853dfc36d1461cb7e80c0b0f7edf5e",
              "version_major": 2,
              "version_minor": 0
            },
            "text/plain": [
              "Parsing nodes:   0%|          | 0/1 [00:00<?, ?it/s]"
            ]
          },
          "metadata": {},
          "output_type": "display_data"
        },
        {
          "data": {
            "application/vnd.jupyter.widget-view+json": {
              "model_id": "dce42d08ea1e44e6b3811e7a83475465",
              "version_major": 2,
              "version_minor": 0
            },
            "text/plain": [
              "Generating embeddings:   0%|          | 0/1 [00:00<?, ?it/s]"
            ]
          },
          "metadata": {},
          "output_type": "display_data"
        },
        {
          "name": "stdout",
          "output_type": "stream",
          "text": [
            "Vector index created successfully!\n"
          ]
        }
      ],
      "source": [
        "# Method 1: Direct from documents\n",
        "index = VectorStoreIndex.from_documents(documents, show_progress=True)\n",
        "\n",
        "# Method 2: From nodes (more control)\n",
        "# index = VectorStoreIndex(nodes, show_progress=True)\n",
        "\n",
        "print(\"Vector index created successfully!\")"
      ]
    },
    {
      "cell_type": "markdown",
      "metadata": {
        "id": "mMw03sbbaD96"
      },
      "source": [
        "## 5. Building Query Engine\n",
        "\n",
        "**Query Engine** handles the retrieval and response generation process."
      ]
    },
    {
      "cell_type": "code",
      "execution_count": null,
      "metadata": {
        "id": "7T9pTjqiaD96",
        "outputId": "c56e06c9-7e18-4f4c-a6db-c5e81cf97ec8"
      },
      "outputs": [
        {
          "name": "stdout",
          "output_type": "stream",
          "text": [
            "Answer: LlamaIndex is a data framework for building LLM applications that provides tools for ingesting, structuring, and accessing private data for LLMs.\n",
            "\n",
            "Source nodes:\n",
            "- Score: 0.894\n",
            "  Text: LlamaIndex is a data framework for building LLM applications. \n",
            "It provides tools to ingest, structur...\n",
            "\n"
          ]
        }
      ],
      "source": [
        "# Create query engine\n",
        "query_engine = index.as_query_engine(\n",
        "    similarity_top_k=2,  # Retrieve top 2 most similar chunks\n",
        "    streaming=False\n",
        ")\n",
        "\n",
        "# Test query\n",
        "response = query_engine.query(\"What is LlamaIndex?\")\n",
        "print(\"Answer:\", response)\n",
        "print(\"\\nSource nodes:\")\n",
        "for node in response.source_nodes:\n",
        "    print(f\"- Score: {node.score:.3f}\")\n",
        "    print(f\"  Text: {node.text[:100]}...\\n\")"
      ]
    },
    {
      "cell_type": "markdown",
      "metadata": {
        "id": "qoed1CVGaD96"
      },
      "source": [
        "## 6. Advanced: Custom Retrieval\n",
        "\n",
        "Fine-tune retrieval for better results."
      ]
    },
    {
      "cell_type": "code",
      "execution_count": null,
      "metadata": {
        "id": "6JFX4TdeaD96",
        "outputId": "6553bdef-8f33-4853-fe30-894e80c38b57"
      },
      "outputs": [
        {
          "name": "stdout",
          "output_type": "stream",
          "text": [
            "Retrieved 1 nodes:\n",
            "\n",
            "Node 1 (Score: 0.794):\n",
            "LlamaIndex is a data framework for building LLM applications. \n",
            "It provides tools to ingest, structure, and access private data for LLMs.\n",
            "The framework...\n"
          ]
        }
      ],
      "source": [
        "# Get retriever for more control\n",
        "retriever = index.as_retriever(\n",
        "    similarity_top_k=3,\n",
        "    # filters=MetadataFilters(...) # Add metadata filters if needed\n",
        ")\n",
        "\n",
        "# Test retrieval\n",
        "retrieved_nodes = retriever.retrieve(\"How does RAG work?\")\n",
        "print(f\"Retrieved {len(retrieved_nodes)} nodes:\")\n",
        "for i, node in enumerate(retrieved_nodes):\n",
        "    print(f\"\\nNode {i+1} (Score: {node.score:.3f}):\")\n",
        "    print(node.text[:150] + \"...\")"
      ]
    },
    {
      "cell_type": "markdown",
      "metadata": {
        "id": "JB98wI2QaD97"
      },
      "source": [
        "## 7. Persistence and Storage\n",
        "\n",
        "Save your index to avoid reprocessing documents."
      ]
    },
    {
      "cell_type": "code",
      "execution_count": null,
      "metadata": {
        "id": "71z3acLFaD97",
        "outputId": "21cfd662-9212-496d-91b2-ae08678c1a96"
      },
      "outputs": [
        {
          "name": "stdout",
          "output_type": "stream",
          "text": [
            "Index saved to ./storage\n"
          ]
        }
      ],
      "source": [
        "# Save index\n",
        "index.storage_context.persist(persist_dir=\"./storage\")\n",
        "print(\"Index saved to ./storage\")\n",
        "\n",
        "# Load index (for future sessions)\n",
        "from llama_index.core import StorageContext, load_index_from_storage\n",
        "\n",
        "# storage_context = StorageContext.from_defaults(persist_dir=\"./storage\")\n",
        "# loaded_index = load_index_from_storage(storage_context)\n",
        "# query_engine = loaded_index.as_query_engine()"
      ]
    },
    {
      "cell_type": "markdown",
      "metadata": {
        "id": "xzOHZgDnaD97"
      },
      "source": [
        "## 8. Interactive Demo"
      ]
    },
    {
      "cell_type": "code",
      "execution_count": null,
      "metadata": {
        "id": "GbhAo6rhaD97",
        "outputId": "ea42c83f-e801-45ef-9cf7-0d81b82b9c7f"
      },
      "outputs": [
        {
          "name": "stdout",
          "output_type": "stream",
          "text": [
            "Question: What is LlamaIndex?\n",
            "Answer: LlamaIndex is a data framework designed for creating LLM applications, offering tools for managing private data from different sources like PDFs, databases, and APIs. It utilizes the RAG technique to enable LLMs to analyze and respond to inquiries about the data.\n",
            "--------------------------------------------------\n",
            "Question: How does RAG work?\n",
            "Answer: RAG works as the core technique that enables LLMs to respond to inquiries regarding the data by utilizing the tools provided within the LlamaIndex framework.\n",
            "--------------------------------------------------\n",
            "Question: What data sources does LlamaIndex support?\n",
            "Answer: LlamaIndex supports various data sources including PDFs, databases, and APIs.\n",
            "--------------------------------------------------\n"
          ]
        }
      ],
      "source": [
        "# Interactive query function\n",
        "def ask_question(question):\n",
        "    response = query_engine.query(question)\n",
        "    print(f\"Question: {question}\")\n",
        "    print(f\"Answer: {response}\")\n",
        "    print(\"-\" * 50)\n",
        "\n",
        "# Test different questions\n",
        "questions = [\n",
        "    \"What is LlamaIndex?\",\n",
        "    \"How does RAG work?\",\n",
        "    \"What data sources does LlamaIndex support?\"\n",
        "]\n",
        "\n",
        "for q in questions:\n",
        "    ask_question(q)"
      ]
    },
    {
      "cell_type": "markdown",
      "metadata": {
        "id": "qPlv_LJeaD97"
      },
      "source": [
        "## Key Takeaways\n",
        "\n",
        "### Best Practices\n",
        "1. **Chunk Size**: Start with 1024 tokens, adjust based on your data\n",
        "2. **Embeddings**: Choose models suited to your domain\n",
        "3. **Retrieval**: Experiment with `similarity_top_k` values\n",
        "4. **Persistence**: Always save indexes for production use\n",
        "\n",
        "### Next Steps\n",
        "- Explore different **node parsers** (Semantic, Hierarchical)\n",
        "- Try **hybrid search** combining semantic and keyword search  \n",
        "- Implement **metadata filtering** for precise retrieval\n",
        "- Build **chat engines** for conversational interfaces\n",
        "- Use **agents** for multi-step reasoning\n",
        "\n",
        "### Performance Tips\n",
        "- Use **smaller chunks** for precise answers\n",
        "- Use **larger chunks** for comprehensive context\n",
        "- Consider **vector databases** (Pinecone, Chroma) for scaling\n",
        "- Implement **evaluation metrics** to measure quality\n",
        "\n",
        "LlamaIndex makes building RAG applications straightforward while providing flexibility for advanced use cases. Start simple and gradually add complexity as needed!"
      ]
    }
  ],
  "metadata": {
    "kernelspec": {
      "display_name": "3.10.14",
      "language": "python",
      "name": "python3"
    },
    "language_info": {
      "codemirror_mode": {
        "name": "ipython",
        "version": 3
      },
      "file_extension": ".py",
      "mimetype": "text/x-python",
      "name": "python",
      "nbconvert_exporter": "python",
      "pygments_lexer": "ipython3",
      "version": "3.10.14"
    },
    "colab": {
      "provenance": []
    }
  },
  "nbformat": 4,
  "nbformat_minor": 0
}